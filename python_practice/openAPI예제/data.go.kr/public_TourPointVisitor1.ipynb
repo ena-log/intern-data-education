{
 "cells": [
  {
   "cell_type": "code",
   "execution_count": 1,
   "metadata": {},
   "outputs": [],
   "source": [
    "import urllib.request\n",
    "import config\n",
    "#유료 관광지 방문객 수\n",
    "\"\"\"\n",
    " data.go.kr 사이트의 open API는 \n",
    " 키를 \n",
    " url의 파라미터(serviceKey=... )로 추가 전달.  ( 참고 - 네이버는 header로 전달)  \n",
    "\"\"\"\n",
    "key=\"qr26h%2FzivU3LX0%2Ffk56Slf4S67Dus8rTNiQ2G7zn7x5DOOxsjNDt3uh44O32VtUMAjy4MfJ666sUZ9k%2FUjSjqQ%3D%3D\"\n",
    "\n",
    "#유료 관광지 방문객 수 조회를 위한 url 생성\n",
    "def makeURL(yyyymm, sido, gungu, nPagenum, nItems):\n",
    "                 \n",
    "    end_point = \"http://openapi.tour.go.kr/openapi/service/TourismResourceStatsService/getPchrgTrrsrtVisitorList\"\n",
    "    parameters = \"?_type=json&serviceKey=\" + config.access_key  # config.py  파일에 있는 변수. access_key=\"B0j5Y8uG%2BI.....\n",
    "                                                                  #  open api를 사용하기 위한 키. (홈페이지 개발자 등록 후 발급받는다.)\n",
    "    parameters += \"&YM=\" + yyyymm  #  요청 파라미터 참고 .\n",
    "    parameters += \"&SIDO=\" + urllib.parse.quote(sido)  # 한글은 인코딩하여 사용\n",
    "    parameters += \"&GUNGU=\" + urllib.parse.quote(gungu)\n",
    "    parameters += \"&RES_NM=&pageNo=\" + str(nPagenum)  # 숫자는 문자로 변경 후 사용\n",
    "    parameters += \"&numOfRows=\" + str(nItems)\n",
    "    url = end_point + parameters\n",
    "    print(url)\n",
    "    return url\n"
   ]
  },
  {
   "cell_type": "code",
   "execution_count": 2,
   "metadata": {},
   "outputs": [],
   "source": [
    "def requestURL(url):\n",
    "    req = urllib.request.Request(url)\n",
    "    try:\n",
    "        response = urllib.request.urlopen(req)      # 요청\n",
    "        if response.status == 200:                  # 200이면 정상 응답\n",
    "            print(\"Url Request Success\")\n",
    "            data = response.read().decode('utf-8')\n",
    "            return data                             # 크롤링 결과 반환\n",
    "    except Exception as e:  # url로 요청 중 오류가 발생시 실행\n",
    "        print(e)\n",
    "        print(\"Error for URL : %s\" %url)\n",
    "        return None"
   ]
  },
  {
   "cell_type": "code",
   "execution_count": 3,
   "metadata": {},
   "outputs": [
    {
     "name": "stdout",
     "output_type": "stream",
     "text": [
      "http://openapi.tour.go.kr/openapi/service/TourismResourceStatsService/getPchrgTrrsrtVisitorList?_type=json&serviceKey=qr26h%2FzivU3LX0%2Ffk56Slf4S67Dus8rTNiQ2G7zn7x5DOOxsjNDt3uh44O32VtUMAjy4MfJ666sUZ9k%2FUjSjqQ%3D%3D&YM=201710&SIDO=%EC%84%9C%EC%9A%B8%ED%8A%B9%EB%B3%84%EC%8B%9C&GUNGU=&RES_NM=&pageNo=1&numOfRows=100\n",
      "Url Request Success\n",
      "{\"response\":{\"header\":{\"resultCode\":\"0000\",\"resultMsg\":\"OK\"},\"body\":{\"items\":{\"item\":[{\"addrCd\":1111,\"csForCnt\":69877,\"csNatCnt\":347108,\"gungu\":\"종로구\",\"resNm\":\"창덕궁\",\"rnum\":1,\"sido\":\"서울특별시\",\"ym\":201710},{\"addrCd\":1111,\"csForCnt\":151735,\"csNatCnt\":850481,\"gungu\":\"종로구\",\"resNm\":\"경복궁\",\"rnum\":2,\"sido\":\"서울특별시\",\"ym\":201710},{\"addrCd\":1111,\"csForCnt\":15164,\"csNatCnt\":192578,\"gungu\":\"종로구\",\"resNm\":\"창경궁\",\"rnum\":3,\"sido\":\"서울특별시\",\"ym\":201710},{\"addrCd\":1111,\"csForCnt\":6850,\"csNatCnt\":70083,\"gungu\":\"종로구\",\"resNm\":\"종묘\",\"rnum\":4,\"sido\":\"서울특별시\",\"ym\":201710},{\"addrCd\":1117,\"csForCnt\":9700,\"csNatCnt\":268676,\"gungu\":\"용산구\",\"resNm\":\"국립중앙박물관\",\"rnum\":5,\"sido\":\"서울특별시\",\"ym\":201710},{\"addrCd\":1114,\"csForCnt\":47478,\"csNatCnt\":493927,\"gungu\":\"중구\",\"resNm\":\"덕수궁\",\"rnum\":6,\"sido\":\"서울특별시\",\"ym\":201710},{\"addrCd\":1135,\"csForCnt\":9,\"csNatCnt\":26119,\"gungu\":\"노원구\",\"resNm\":\"태릉 ·  강릉 · 조선왕릉전시관\",\"rnum\":7,\"sido\":\"서울특별시\",\"ym\":201710},{\"addrCd\":1141,\"csForCnt\":6060,\"csNatCnt\":95963,\"gungu\":\"서대문구\",\"resNm\":\"서대문형무소역사관\",\"rnum\":8,\"sido\":\"서울특별시\",\"ym\":201710},{\"addrCd\":1141,\"csForCnt\":0,\"csNatCnt\":33587,\"gungu\":\"서대문구\",\"resNm\":\"서대문자연사박물관\",\"rnum\":9,\"sido\":\"서울특별시\",\"ym\":201710},{\"addrCd\":1144,\"csForCnt\":15026,\"csNatCnt\":5479,\"gungu\":\"마포구\",\"resNm\":\"트릭아이미술관\",\"rnum\":10,\"sido\":\"서울특별시\",\"ym\":201710},{\"addrCd\":1165,\"csForCnt\":10,\"csNatCnt\":7923,\"gungu\":\"서초구\",\"resNm\":\"헌릉ㆍ인릉\",\"rnum\":11,\"sido\":\"서울특별시\",\"ym\":201710},{\"addrCd\":1168,\"csForCnt\":1381,\"csNatCnt\":56424,\"gungu\":\"강남구\",\"resNm\":\"선릉·정릉\",\"rnum\":12,\"sido\":\"서울특별시\",\"ym\":201710}]},\"numOfRows\":100,\"pageNo\":1,\"totalCount\":12}}}\n"
     ]
    }
   ],
   "source": [
    "def main():\n",
    "    sido = '서울특별시'\n",
    "    gungu = ''\n",
    "    nItems = 100\n",
    "    yyyymm ='201710'\n",
    "    nPagenum = 1\n",
    "\n",
    "    targetURL = makeURL(yyyymm, sido, gungu, nPagenum, nItems)  # 1. URL 만들기\n",
    "    result = requestURL(targetURL)                              # 2. URL로 크롤링\n",
    "    print(result)                                               # 3. 크롤링 결과 출력\n",
    "\n",
    "main() "
   ]
  },
  {
   "cell_type": "code",
   "execution_count": null,
   "metadata": {},
   "outputs": [],
   "source": []
  }
 ],
 "metadata": {
  "kernelspec": {
   "display_name": "Python 3",
   "language": "python",
   "name": "python3"
  },
  "language_info": {
   "codemirror_mode": {
    "name": "ipython",
    "version": 3
   },
   "file_extension": ".py",
   "mimetype": "text/x-python",
   "name": "python",
   "nbconvert_exporter": "python",
   "pygments_lexer": "ipython3",
   "version": "3.7.6"
  }
 },
 "nbformat": 4,
 "nbformat_minor": 2
}
