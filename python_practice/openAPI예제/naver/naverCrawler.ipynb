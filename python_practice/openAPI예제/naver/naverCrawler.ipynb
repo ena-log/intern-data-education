{
 "cells": [
  {
   "cell_type": "code",
   "execution_count": 1,
   "metadata": {},
   "outputs": [],
   "source": [
    "import urllib.request\n",
    "import config"
   ]
  },
  {
   "cell_type": "code",
   "execution_count": 2,
   "metadata": {},
   "outputs": [],
   "source": [
    "def makeURL(sNode, search_text ):\n",
    "    base = \"https://openapi.naver.com/v1/search\"\n",
    "    node = \"/%s.json\" % sNode\n",
    "    parameters = \"?query=%s\" % urllib.parse.quote(search_text)\n",
    "    url = base + node + parameters\n",
    "    return url"
   ]
  },
  {
   "cell_type": "code",
   "execution_count": 3,
   "metadata": {},
   "outputs": [],
   "source": [
    "def requestURL(url):\n",
    "    req = urllib.request.Request(url)\n",
    "    req.add_header(\"X-Naver-Client-Id\", config.client_id)  # open api 키를 header에 추가\n",
    "    req.add_header(\"X-Naver-Client-Secret\", config.client_secret)  # open api 키를 header에 추가\n",
    "    try:\n",
    "        response = urllib.request.urlopen(req)  # 크롤링\n",
    "        if response.status == 200:  # 200이면 정상 응답\n",
    "            print(\"Url Request Success\")\n",
    "            data = response.read().decode('utf-8')\n",
    "            return data  # 크롤링 결과 반환\n",
    "    except Exception as e:  # url로 요청 중 오류가 발생시 실행\n",
    "        print(e)\n",
    "        print(\"Error for URL : %s\" %url)\n",
    "        return None"
   ]
  },
  {
   "cell_type": "code",
   "execution_count": 4,
   "metadata": {},
   "outputs": [],
   "source": [
    "def main():\n",
    "    sNode = 'news'  # 'news', 'blog', 'cafearticle'\n",
    "    search_text = input(\">검색할 키워드를 입력하세요. : \")\n",
    "\n",
    "    targetURL = makeURL(sNode, search_text )    #1. URL 만들기\n",
    "    result = requestURL(targetURL)              #2. URL로 크롤링\n",
    "    print(result)                               #3. 크롤링 결과 출력"
   ]
  },
  {
   "cell_type": "code",
   "execution_count": 5,
   "metadata": {},
   "outputs": [
    {
     "name": "stdout",
     "output_type": "stream",
     "text": [
      ">검색할 키워드를 입력하세요. : 파이썬\n",
      "HTTP Error 401: Unauthorized\n",
      "Error for URL : https://openapi.naver.com/v1/search/news.json?query=%ED%8C%8C%EC%9D%B4%EC%8D%AC\n",
      "None\n"
     ]
    }
   ],
   "source": [
    "main()"
   ]
  },
  {
   "cell_type": "code",
   "execution_count": null,
   "metadata": {},
   "outputs": [],
   "source": []
  },
  {
   "cell_type": "code",
   "execution_count": null,
   "metadata": {},
   "outputs": [],
   "source": []
  }
 ],
 "metadata": {
  "kernelspec": {
   "display_name": "Python 3",
   "language": "python",
   "name": "python3"
  },
  "language_info": {
   "codemirror_mode": {
    "name": "ipython",
    "version": 3
   },
   "file_extension": ".py",
   "mimetype": "text/x-python",
   "name": "python",
   "nbconvert_exporter": "python",
   "pygments_lexer": "ipython3",
   "version": "3.7.6"
  }
 },
 "nbformat": 4,
 "nbformat_minor": 2
}
