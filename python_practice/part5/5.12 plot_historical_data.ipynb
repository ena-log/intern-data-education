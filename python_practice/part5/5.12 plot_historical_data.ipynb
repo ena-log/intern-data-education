{
 "cells": [
  {
   "cell_type": "code",
   "execution_count": 1,
   "metadata": {},
   "outputs": [
    {
     "name": "stdout",
     "output_type": "stream",
     "text": [
      "       0        1\n",
      "0   2000  36192.0\n",
      "1   2001  36608.0\n",
      "2   2002  37014.0\n",
      "3   2003  37410.0\n",
      "4   2004  37772.0\n",
      "5   2005  38120.0\n",
      "6   2006  38632.0\n",
      "7   2007  39180.0\n",
      "8   2008  39775.0\n",
      "9   2009  40301.0\n",
      "10  2010  40825.0\n",
      "11  2011  41387.0\n",
      "12  2012  41857.0\n",
      "13  2013  42304.0\n",
      "14  2014  42795.0\n",
      "15  2015  43239.0\n",
      "16  2016  43606.0\n",
      "17  2017  43931.0\n",
      "18  2018  44182.0\n",
      "19  2019  44504.0\n"
     ]
    }
   ],
   "source": [
    "from datetime import datetime\n",
    "import pandas as pd\n",
    "import matplotlib\n",
    "\n",
    "matplotlib.use('Agg') \n",
    "matplotlib.rcParams['font.sans-serif'] = 'NanumGothic,AppleGothic' \n",
    "import matplotlib.pyplot as plt\n",
    "\n",
    "def main():\n",
    "    # 1981년과 2014년 사이의 환율과 고용률을 출력해 봅니다. \n",
    "    # 조금 이해하기 쉽게 Pandas 대신 기본 숫자 비교와 문자열 비교를 사용해 봤습니다.\n",
    "    # 환율 정보 읽어 들이기\n",
    "    df_exchange = pd.read_csv('DEXKOUS.csv', header=1, \n",
    "        names=['DATE', 'DEXKOUS'], skipinitialspace=True, index_col=0)\n",
    "    years = {}\n",
    "    output = []\n",
    "    for index in df_exchange.index:\n",
    "        year = int(index.split('-')[0])\n",
    "        if (year not in years) and (1981 < year < 2020):\n",
    "            if df_exchange.DEXKOUS[index] != \".\":\n",
    "                years[year] = True\n",
    "                output.append([year, float(df_exchange.DEXKOUS[index])])\n",
    "    df_exchange = pd.DataFrame(output)\n",
    "\n",
    "    # 실업율 통계를 구합니다.\n",
    "    df_jobs = pd.read_excel('gugik.xlsx') \n",
    "    output = []\n",
    "    stacked = df_jobs.stack()[1]\n",
    "    for index in stacked.index:\n",
    "        try:\n",
    "            if 1981 <= int(index) <= 2020:\n",
    "                output.append([int(index), float(stacked[index])])\n",
    "        except:\n",
    "            pass\n",
    "    s_jobs = pd.DataFrame(output)\n",
    "\n",
    "    # 첫 번째 그래프 그리기\n",
    "    plt.subplot(2, 1, 1)\n",
    "    plt.plot(df_exchange[0], df_exchange[1], label='원/달러') \n",
    "    plt.xlim(1981, 2020) # X축의 범위를 설정합니다.\n",
    "    plt.ylim(500, 2500)\n",
    "    plt.legend(loc='best')\n",
    "    \n",
    "    # 두 번째 그래프 그리기\n",
    "    print(s_jobs)\n",
    "    plt.subplot(2, 1, 2) \n",
    "    plt.plot(s_jobs[0], s_jobs[1], label='실업률(%)') \n",
    "    plt.xlim(2000, 2019) # X축의 범위를 설정합니다.\n",
    "    plt.ylim(0, 100) # Y축의 범위를 설정합니다.\n",
    "    plt.legend(loc='best')\n",
    "    plt.savefig('historical_data.png', dpi=300) # 이미지를 저장합니다.\n",
    "\n",
    "if __name__ == '__main__': \n",
    "    main()"
   ]
  },
  {
   "cell_type": "code",
   "execution_count": null,
   "metadata": {},
   "outputs": [],
   "source": []
  }
 ],
 "metadata": {
  "kernelspec": {
   "display_name": "Python 3",
   "language": "python",
   "name": "python3"
  },
  "language_info": {
   "codemirror_mode": {
    "name": "ipython",
    "version": 3
   },
   "file_extension": ".py",
   "mimetype": "text/x-python",
   "name": "python",
   "nbconvert_exporter": "python",
   "pygments_lexer": "ipython3",
   "version": "3.7.6"
  }
 },
 "nbformat": 4,
 "nbformat_minor": 2
}
