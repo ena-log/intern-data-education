{
 "cells": [
  {
   "cell_type": "code",
   "execution_count": 2,
   "metadata": {},
   "outputs": [],
   "source": [
    "from selenium import webdriver\n",
    "from selenium.webdriver.common.keys import Keys\n",
    "\n",
    "# PhantomJS 모듈의 WebDriver 객체를 생성합니다.\n",
    "driver = webdriver.PhantomJS()\n",
    "\n",
    "# Google 메인 페이지를 엽니다.\n",
    "driver.get('https://www.google.co.kr/')\n",
    "\n",
    "# 타이틀에 'Google'이 포함돼 있는지 확인합니다.\n",
    "assert 'Google' in driver.title\n",
    "\n",
    "# 검색어를 입력하고 검색합니다.\n",
    "input_element = driver.find_element_by_name('q')\n",
    "input_element.send_keys('Python')\n",
    "input_element.send_keys(Keys.RETURN)\n",
    "\n",
    "# 타이틀에 'Python'이 포함돼 있는지 확인합니다.\n",
    "assert 'Python' in driver.title\n",
    "\n",
    "# 스크린샷을 찍습니다.\n",
    "driver.save_screenshot('search_results.png')\n",
    "\n",
    "# 검색 결과를 출력합니다.\n",
    "for a in driver.find_elements_by_css_selector('h3 > a'):\n",
    "    print(a.text)\n",
    "    print(a.get_attribute('href'))\n",
    "    print()"
   ]
  },
  {
   "cell_type": "code",
   "execution_count": null,
   "metadata": {},
   "outputs": [],
   "source": []
  }
 ],
 "metadata": {
  "kernelspec": {
   "display_name": "Python 3",
   "language": "python",
   "name": "python3"
  },
  "language_info": {
   "codemirror_mode": {
    "name": "ipython",
    "version": 3
   },
   "file_extension": ".py",
   "mimetype": "text/x-python",
   "name": "python",
   "nbconvert_exporter": "python",
   "pygments_lexer": "ipython3",
   "version": "3.7.6"
  }
 },
 "nbformat": 4,
 "nbformat_minor": 2
}
