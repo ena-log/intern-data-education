{
 "cells": [
  {
   "cell_type": "code",
   "execution_count": 1,
   "metadata": {},
   "outputs": [
    {
     "name": "stdout",
     "output_type": "stream",
     "text": [
      "@LeoHan61098923 https://t.co/lRLTxJUnta\n",
      "@LeoHan61098923 안녕하세요. 트위터 테스트해봐요.\n"
     ]
    }
   ],
   "source": [
    "import os\n",
    "# pip install tweepy\n",
    "import tweepy\n",
    "\n",
    "# 환경변수에서 인증 정보를 추출합니다.\n",
    "CONSUMER_KEY = os.environ['CONSUMER_KEY']\n",
    "CONSUMER_SECRET = os.environ['CONSUMER_SECRET']\n",
    "ACCESS_TOKEN = os.environ['ACCESS_TOKEN']\n",
    "ACCESS_TOKEN_SECRET = os.environ['ACCESS_TOKEN_SECRET']\n",
    "\n",
    "# 인증 정보를 설정합니다.\n",
    "auth = tweepy.OAuthHandler(CONSUMER_KEY, CONSUMER_SECRET)\n",
    "auth.set_access_token(ACCESS_TOKEN, ACCESS_TOKEN_SECRET)\n",
    "\n",
    "# API 클라이언트를 생성합니다.\n",
    "api = tweepy.API(auth)\n",
    "\n",
    "# 사용자의 타임라인을 추출합니다.\n",
    "public_tweets = api.home_timeline()\n",
    "for status in public_tweets:\n",
    "    # 사용자 이름과 트윗을 출력합니다.\n",
    "    print('@' + status.user.screen_name, status.text)"
   ]
  },
  {
   "cell_type": "code",
   "execution_count": null,
   "metadata": {},
   "outputs": [],
   "source": []
  }
 ],
 "metadata": {
  "kernelspec": {
   "display_name": "Python 3",
   "language": "python",
   "name": "python3"
  },
  "language_info": {
   "codemirror_mode": {
    "name": "ipython",
    "version": 3
   },
   "file_extension": ".py",
   "mimetype": "text/x-python",
   "name": "python",
   "nbconvert_exporter": "python",
   "pygments_lexer": "ipython3",
   "version": "3.6.7"
  }
 },
 "nbformat": 4,
 "nbformat_minor": 2
}
