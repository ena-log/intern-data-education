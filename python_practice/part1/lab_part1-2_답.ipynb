{
 "cells": [
  {
   "cell_type": "markdown",
   "metadata": {},
   "source": [
    "### 리스트"
   ]
  },
  {
   "cell_type": "code",
   "execution_count": 5,
   "metadata": {},
   "outputs": [],
   "source": [
    "# list \n",
    "\n",
    "name =[ ]"
   ]
  },
  {
   "cell_type": "code",
   "execution_count": 6,
   "metadata": {},
   "outputs": [
    {
     "name": "stdout",
     "output_type": "stream",
     "text": [
      "이름을 입력하세요 : 홍길동\n",
      "이름을 입력하세요 : 이영화\n",
      "이름을 입력하세요 : 박음악\n",
      "이름을 입력하세요 : 김철수\n",
      "이름을 입력하세요 : 이은주\n"
     ]
    },
    {
     "data": {
      "text/plain": [
       "['홍길동', '이영화', '박음악', '김철수', '이은주']"
      ]
     },
     "execution_count": 6,
     "metadata": {},
     "output_type": "execute_result"
    }
   ],
   "source": [
    "# 문제: 이름을 5번 입력받아서 name 리스트에 추가.  for 문,  input() 함수 활용\n",
    "for i in range(5) :\n",
    "    input_name = input(\"이름을 입력하세요 : \") \n",
    "    name.append(input_name)\n",
    "name "
   ]
  },
  {
   "cell_type": "code",
   "execution_count": 7,
   "metadata": {},
   "outputs": [
    {
     "data": {
      "text/plain": [
       "'이은주'"
      ]
     },
     "execution_count": 7,
     "metadata": {},
     "output_type": "execute_result"
    }
   ],
   "source": [
    "# 문제:  name 리스트의 가장 끝에 있는 데이터 출력 \n",
    "name[-1]"
   ]
  },
  {
   "cell_type": "code",
   "execution_count": 8,
   "metadata": {},
   "outputs": [
    {
     "data": {
      "text/plain": [
       "['김철수', '이은주']"
      ]
     },
     "execution_count": 8,
     "metadata": {},
     "output_type": "execute_result"
    }
   ],
   "source": [
    "# 문제:  name 리스트의 데이터를 3인덱스부터 끝까지 출력 \n",
    "name[3:]"
   ]
  },
  {
   "cell_type": "code",
   "execution_count": 9,
   "metadata": {},
   "outputs": [
    {
     "data": {
      "text/plain": [
       "['이은주', '김철수', '박음악', '이영화', '홍길동']"
      ]
     },
     "execution_count": 9,
     "metadata": {},
     "output_type": "execute_result"
    }
   ],
   "source": [
    "# 문제:  name 리스트의 데이터를 반대로 출력 \n",
    "name[::-1]"
   ]
  },
  {
   "cell_type": "markdown",
   "metadata": {},
   "source": [
    "### 딕셔너리"
   ]
  },
  {
   "cell_type": "code",
   "execution_count": 10,
   "metadata": {},
   "outputs": [],
   "source": [
    "dic_data = { \"홍길동\" :'010-1234-1234', \n",
    "             \"박철수\" :'010-1111-2222'  }"
   ]
  },
  {
   "cell_type": "code",
   "execution_count": 11,
   "metadata": {},
   "outputs": [],
   "source": [
    "# 문제:  dic_data 에  \"김영희\" :'010-2222-3333'  추가  \n",
    "dic_data[\"김영희\"] = '010-2222-3333'"
   ]
  },
  {
   "cell_type": "code",
   "execution_count": 12,
   "metadata": {},
   "outputs": [],
   "source": [
    "# 문제:  dic_data 에  \"홍길동\" 의 전화번호 변경.  '010-4444-5555' 로  \n",
    "\n",
    "dic_data[\"홍길동\"] = '010-4444-5555'"
   ]
  },
  {
   "cell_type": "code",
   "execution_count": 16,
   "metadata": {},
   "outputs": [
    {
     "name": "stdout",
     "output_type": "stream",
     "text": [
      "홍길동 010-4444-5555\n",
      "박철수 010-1111-2222\n",
      "김영희 010-2222-3333\n"
     ]
    }
   ],
   "source": [
    "# 문제:  dic_data 에 있는 모든 정보를 for 문을 이용해서 출력 \n",
    "\n",
    "for key, value in dic_data.items() : \n",
    "    print(key, value)"
   ]
  },
  {
   "cell_type": "markdown",
   "metadata": {},
   "source": [
    "### 파일입출력"
   ]
  },
  {
   "cell_type": "code",
   "execution_count": 2,
   "metadata": {},
   "outputs": [
    {
     "name": "stdout",
     "output_type": "stream",
     "text": [
      "홍길동 010-1234-1234\n",
      "박철수 010-1111-2222\n"
     ]
    }
   ],
   "source": [
    "dic_data = { \"홍길동\" :'010-1234-1234',\n",
    "             \"박철수\" :'010-1111-2222' } \n",
    "\n",
    "# 문제 :  for 문과  포멧팅을 이용하여  \n",
    "#          딕셔너리에 있는 모든 정보를 \n",
    "#         \"홍길동의 전화번호는 010-1234-123 입니다.\" 라는 포멧으로 모두 tel.txt 파일에 저장. \n",
    "\n",
    "with open(\"tel.txt\", \"w\" , encoding=\"utf-8\") as fw :\n",
    "    for key, value in dic_data.items() : \n",
    "        print(key, value)\n",
    "        fw.write(key +\"=\" + value) \n",
    "     "
   ]
  },
  {
   "cell_type": "markdown",
   "metadata": {},
   "source": [
    "### 함수"
   ]
  },
  {
   "cell_type": "code",
   "execution_count": null,
   "metadata": {},
   "outputs": [],
   "source": [
    "# 문제 : 다음과 같은 함수를 생성하세요\n",
    "\n",
    "# 함수 이름:         gugudan \n",
    "# 매개 변수 이름 :   num \n",
    "# 내용 : num 단을 출력"
   ]
  },
  {
   "cell_type": "code",
   "execution_count": 21,
   "metadata": {},
   "outputs": [],
   "source": [
    "def gugudan(num) :\n",
    "    for i in range(1,10) :\n",
    "        print(num , \"*\" , i , \"=\" , num*i)"
   ]
  },
  {
   "cell_type": "code",
   "execution_count": 20,
   "metadata": {},
   "outputs": [
    {
     "name": "stdout",
     "output_type": "stream",
     "text": [
      "2 * 1 = 2\n",
      "2 * 2 = 4\n",
      "2 * 3 = 6\n",
      "2 * 4 = 8\n",
      "2 * 5 = 10\n",
      "2 * 6 = 12\n",
      "2 * 7 = 14\n",
      "2 * 8 = 16\n",
      "2 * 9 = 18\n",
      "9 * 1 = 9\n",
      "9 * 2 = 18\n",
      "9 * 3 = 27\n",
      "9 * 4 = 36\n",
      "9 * 5 = 45\n",
      "9 * 6 = 54\n",
      "9 * 7 = 63\n",
      "9 * 8 = 72\n",
      "9 * 9 = 81\n"
     ]
    }
   ],
   "source": [
    "gugudan(2)\n",
    "gugudan(9)"
   ]
  },
  {
   "cell_type": "code",
   "execution_count": null,
   "metadata": {},
   "outputs": [],
   "source": []
  }
 ],
 "metadata": {
  "kernelspec": {
   "display_name": "Python 3",
   "language": "python",
   "name": "python3"
  },
  "language_info": {
   "codemirror_mode": {
    "name": "ipython",
    "version": 3
   },
   "file_extension": ".py",
   "mimetype": "text/x-python",
   "name": "python",
   "nbconvert_exporter": "python",
   "pygments_lexer": "ipython3",
   "version": "3.7.6"
  }
 },
 "nbformat": 4,
 "nbformat_minor": 2
}
