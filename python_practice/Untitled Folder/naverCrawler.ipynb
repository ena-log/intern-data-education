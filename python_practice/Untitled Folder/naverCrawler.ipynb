{
 "cells": [
  {
   "cell_type": "code",
   "execution_count": 3,
   "metadata": {},
   "outputs": [
    {
     "name": "stdout",
     "output_type": "stream",
     "text": [
      "질의서울명소\n",
      "{\n",
      "\"lastBuildDate\": \"Tue, 14 Jul 2020 09:39:35 +0900\",\n",
      "\"total\": 481050,\n",
      "\"start\": 1,\n",
      "\"display\": 10,\n",
      "\"items\": [\n",
      "{\n",
      "\"title\": \"서울 나들이 이화벽화마을 <b>서울 명소</b>의 몰락\",\n",
      "\"link\": \"https:\\/\\/blog.naver.com\\/jeju8253?Redirect=Log&logNo=221998456648\",\n",
      "\"description\": \"사라진 서울의 작은 동내로 되돌아갔으니까요 시간이 될 때마다 <b>서울 명소</b> 몇 곳씩 찾아가 보았고 확실히 우리나라의 수도라 다른 곳들보다 방문할만한 명소들이 꽤 많이 몰려 있다는 생각은 하지만 뭔가 새로운... \",\n",
      "\"bloggername\": \"제주왕자\",\n",
      "\"bloggerlink\": \"https://blog.naver.com/jeju8253\",\n",
      "\"postdate\": \"20200612\"\n",
      "\n",
      "},\n",
      "{\n",
      "\"title\": \"<b>서울 명소</b> 경복궁 별빛야행 2020 정보~\",\n",
      "\"link\": \"https:\\/\\/blog.naver.com\\/hloveh01?Redirect=Log&logNo=221967773247\",\n",
      "\"description\": \"<b>서울 명소</b> 경복궁 별빛야행 2020 정보~ 서울에 조선시대 5대 궁궐이 있다. 조선의 정궁인 경복궁, 유네스코 세계 문화유산에 선정된 창덕궁, 같은 담 아래 창경궁, 우리나라 근현대사의 역사를 고스란히... \",\n",
      "\"bloggername\": \"♣️행복 가득한 그루터기 발자취♣️\",\n",
      "\"bloggerlink\": \"https://blog.naver.com/hloveh01\",\n",
      "\"postdate\": \"20200517\"\n",
      "\n",
      "},\n",
      "{\n",
      "\"title\": \"응봉산 개나리 봄날의 <b>서울 명소</b>\",\n",
      "\"link\": \"https:\\/\\/blog.naver.com\\/sawtiger?Redirect=Log&logNo=221880692100\",\n",
      "\"description\": \"오늘은 <b>서울</b> 봄꽃 <b>명소</b> 응봉산을 소개하려 한다. 매년 가는 곳이었지만 사회적 거리두기를 감안하여 한적한 평일 오후를 선택했다. <b>서울</b>숲공원에서 출발하여 천천히 걷다보니 어느덧 응봉산이었고 그 화려한... \",\n",
      "\"bloggername\": \"B급 정서의 스트리트 포토그래퍼 서타이거 만만세 !!!\",\n",
      "\"bloggerlink\": \"https://blog.naver.com/sawtiger\",\n",
      "\"postdate\": \"20200330\"\n",
      "\n",
      "},\n",
      "{\n",
      "\"title\": \"<b>서울</b> 야경 <b>명소</b> 동작대교 구름카페 vs 한강대교 노들섬... \",\n",
      "\"link\": \"https:\\/\\/blog.naver.com\\/takuteru?Redirect=Log&logNo=221903281988\",\n",
      "\"description\": \"서울 야경 명소 두번째 노들섬 이곳은 원래 없던 곳이 새롭게 생겨난 곳으로, 요즘 뜨는 <b>서울 명소</b> 중 한곳이라 할 수 있죠! 위 동작 구름카페는 3월31일 다녀왔고, 노들섬은 4일 뒤인 4월 4일에 다녀와.. 사실... \",\n",
      "\"bloggername\": \"Let's Go Fashion World~♡\",\n",
      "\"bloggerlink\": \"https://blog.naver.com/takuteru\",\n",
      "\"postdate\": \"20200411\"\n",
      "\n",
      "},\n",
      "{\n",
      "\"title\": \"[서울여헹] <b>서울명소</b> 서울스카이, 우리나라 마천루\",\n",
      "\"link\": \"https:\\/\\/blog.naver.com\\/koreakm1106?Redirect=Log&logNo=221945613401\",\n",
      "\"description\": \"잠실의 랜드마크 제2롯데월드타워 #<b>서울명소</b> 인 #서울스카이 가 있습니다. 세계에서 4번째로 높다는 전망대입니다. (1위는 핑안 파이낸스타워, 2위 상하이타워, 3위 부르즈할리파) 찾아가는 법은 생각이상으로... \",\n",
      "\"bloggername\": \"Miniature 3.0\",\n",
      "\"bloggerlink\": \"https://blog.naver.com/koreakm1106\",\n",
      "\"postdate\": \"20200504\"\n",
      "\n",
      "},\n",
      "{\n",
      "\"title\": \"<b>서울</b>봄꽃나들이<b>명소</b> <b>서울</b> 용산구 용산가족공원\",\n",
      "\"link\": \"http://blog.daum.net/cognos57/15976216\",\n",
      "\"description\": \"<b>서울</b>봄꽃나들이<b>명소</b> <b>서울</b> 용산구 용산가족공원 댓글 98 <b>서울</b> 어디까지 가봤니?/<b>서울</b> 여행지 2020. 5. 5. 사진여행가 손장혁 요한 , <b>서울</b>봄꽃나들이<b>명소</b> , 요한의 사진이야기 , 용산가족공원... \",\n",
      "\"bloggername\": \"요한의 사진이야기\",\n",
      "\"bloggerlink\": \"http://blog.daum.net/cognos57\",\n",
      "\"postdate\": \"20200505\"\n",
      "\n",
      "},\n",
      "{\n",
      "\"title\": \"잘 몰랐던 <b>서울 명소</b> 5가지 : 돈의문 박물관 마을과 경교장에서... \",\n",
      "\"link\": \"https:\\/\\/blog.naver.com\\/missedmemory?Redirect=Log&logNo=221505772486\",\n",
      "\"description\": \"그냥 사진만 봐도 명소라 할 만하다. 서울시청 서소문 분관 16층 전망대다. 커피숍이 있는데, 커피는... 우리가 잘 몰랐던 <b>서울 명소</b> 5군데 끝~! 흑백 처리한 덕수궁과 서울시내. 구글 포토에서 자동 편집해준... \",\n",
      "\"bloggername\": \"퇴사 후 자체 안식년\",\n",
      "\"bloggerlink\": \"https://blog.naver.com/missedmemory\",\n",
      "\"postdate\": \"20190404\"\n",
      "\n",
      "},\n",
      "{\n",
      "\"title\": \"양평 두물머리 일출 <b>명소</b> <b>서울</b> 근교 드라이브\",\n",
      "\"link\": \"https:\\/\\/blog.naver.com\\/bb00dd?Redirect=Log&logNo=221937921429\",\n",
      "\"description\": \"양평 두물머리 일출<b>명소</b> <b>서울</b> 근교 드라이브 여행일 : 2020년 4월 28일 / 글, 사진 : 순수시대 주세환 양평 두물머리는 사진과 여행이 취미인 제가 즐겨 찾는 일출 <b>명소</b>입니다. 새벽에 팔당대교를 건너 한강을 끼고... \",\n",
      "\"bloggername\": \"주세환의 여행 사진 갤러리\",\n",
      "\"bloggerlink\": \"https://blog.naver.com/bb00dd\",\n",
      "\"postdate\": \"20200430\"\n",
      "\n",
      "},\n",
      "{\n",
      "\"title\": \"한여름 밤 떠나기 좋은 <b>서울</b> 산책 <b>명소</b>를 소개합니다!\",\n",
      "\"link\": \"https:\\/\\/blog.naver.com\\/srtraveler?Redirect=Log&logNo=222029229399\",\n",
      "\"description\": \"저는 우선 <b>서울</b>의 야경 <b>명소</b>로 유명한 ‘<b>서울</b>로 7017’로 향했습니다. 기존의 <b>서울</b>역 고가 도로를 공중정원으로 바꾼 공중정원으로, <b>서울</b>역 8번 출구에서 쉽게 만날 수 있습니다. 다소 일찍 도착했기에 낮의... \",\n",
      "\"bloggername\": \"고속철도 SRT\",\n",
      "\"bloggerlink\": \"https://blog.naver.com/srtraveler\",\n",
      "\"postdate\": \"20200713\"\n",
      "\n",
      "},\n",
      "{\n",
      "\"title\": \"[<b>서울</b> 겹벚꽃<b>명소</b>] 광명 철산주공8단지 주말데이트, 겹벚꽃... \",\n",
      "\"link\": \"https:\\/\\/blog.naver.com\\/milkypuppy?Redirect=Log&logNo=221937524026\",\n",
      "\"description\": \"차에, <b>서울</b>겹벚꽃<b>명소</b>가 어디 있을까 찾아보게 되었죵! 겹벚꽃을 모르시는 분들도 있던데, 겹벚꽃은 일반 벚꽃보다 훨씬 꽃송이가 크고 개화시기도 일반 벚꽃이 다 떨어진 뒤로 비교적 늦기때문에 벚꽃을 더... \",\n",
      "\"bloggername\": \"반짝반짝 슈미월드\",\n",
      "\"bloggerlink\": \"https://blog.naver.com/milkypuppy\",\n",
      "\"postdate\": \"20200430\"\n",
      "\n",
      "}\n",
      "]\n",
      "}\n",
      "\n"
     ]
    }
   ],
   "source": [
    "import os\n",
    "import sys\n",
    "import urllib.request\n",
    "client_id = \"AI86hnYqhifcfb5r2F2Z\"\n",
    "client_secret = \"WxJOZOF2R0\"\n",
    "sInput = input(\"질의\")\n",
    "encText = urllib.parse.quote(sInput)\n",
    "url = \"https://openapi.naver.com/v1/search/blog?query=\" + encText # json 결과\n",
    "request = urllib.request.Request(url)\n",
    "request.add_header(\"X-Naver-Client-Id\",client_id)\n",
    "request.add_header(\"X-Naver-Client-Secret\",client_secret)\n",
    "response = urllib.request.urlopen(request)\n",
    "rescode = response.getcode()\n",
    "if(rescode==200):\n",
    "    response_body = response.read()\n",
    "    response_result = response_body.decode('utf-8')\n",
    "    print(response_result)\n",
    "else:\n",
    "    print(\"Error Code:\" + rescode)"
   ]
  },
  {
   "cell_type": "code",
   "execution_count": 4,
   "metadata": {},
   "outputs": [
    {
     "name": "stdout",
     "output_type": "stream",
     "text": [
      "서울명소_naver_blog_all.json저장완료\n"
     ]
    }
   ],
   "source": [
    "fileName = '%s_naver_blog_all.json'%(sInput)\n",
    "with open(fileName, 'w', encoding='utf-8') as outfile:\n",
    "    outfile.write(response_result)\n",
    "print(fileName + '저장완료')"
   ]
  },
  {
   "cell_type": "code",
   "execution_count": 7,
   "metadata": {
    "scrolled": true
   },
   "outputs": [
    {
     "name": "stdout",
     "output_type": "stream",
     "text": [
      "서울명소_naver_blog_title.txt저장완료\n"
     ]
    }
   ],
   "source": [
    "import json\n",
    "resultListTitle = []\n",
    "fileNameTitle = '%s_naver_blog_title.txt'%(sInput)\n",
    "if response_result != None:\n",
    "    jsonSearch = json.loads(response_result)\n",
    "    \n",
    "    for post in jsonSearch['items']:\n",
    "        title = post['title']\n",
    "        resultListTitle.append(title) \n",
    "        \n",
    "    with open(fileNameTitle, 'w', encoding='utf-8') as outfile:\n",
    "        outfile.write(str(resultListTitle))\n",
    "    print(fileNameTitle + '저장완료')\n"
   ]
  },
  {
   "cell_type": "code",
   "execution_count": 11,
   "metadata": {
    "scrolled": true
   },
   "outputs": [
    {
     "data": {
      "text/plain": [
       "\"['서울 나들이 이화벽화마을 <b>서울 명소</b>의 몰락', '<b>서울 명소</b> 경복궁 별빛야행 2020 정보~', '응봉산 개나리 봄날의 <b>서울 명소</b>', '<b>서울</b> 야경 <b>명소</b> 동작대교 구름카페 vs 한강대교 노들섬... ', '[서울여헹] <b>서울명소</b> 서울스카이, 우리나라 마천루', '<b>서울</b>봄꽃나들이<b>명소</b> <b>서울</b> 용산구 용산가족공원', '잘 몰랐던 <b>서울 명소</b> 5가지 : 돈의문 박물관 마을과 경교장에서... ', '양평 두물머리 일출 <b>명소</b> <b>서울</b> 근교 드라이브', '한여름 밤 떠나기 좋은 <b>서울</b> 산책 <b>명소</b>를 소개합니다!', '[<b>서울</b> 겹벚꽃<b>명소</b>] 광명 철산주공8단지 주말데이트, 겹벚꽃... ']\""
      ]
     },
     "execution_count": 11,
     "metadata": {},
     "output_type": "execute_result"
    }
   ],
   "source": [
    "text=open(fileNameTitle,\"r\", encoding=\"utf-8\").read()\n",
    "text"
   ]
  },
  {
   "cell_type": "code",
   "execution_count": 19,
   "metadata": {},
   "outputs": [],
   "source": [
    "import matplotlib.pyplot as plt\n",
    "%matplotlib inline \n",
    "\n",
    "wordcloud = WordCloud(max_font_size=200,font_path='c:/Windows/fonts/malgun.ttf',\n",
    "                      stopwords=spwords,background_color='#FFFFFF',\n",
    "                      max_words = 2000,\n",
    "                      width=1200,height=800).generate(text)\n",
    "\n",
    "plt.figure(figsize=(10,8))\n",
    "plt.imshow(wordcloud)\n",
    "plt.tight_layout(pad=0)\n",
    "plt.axis('off') \n",
    "\n",
    "plt.savefig('wordcloud_image3.png', bbox_inches='tight')\n",
    "plt.show()"
   ]
  },
  {
   "cell_type": "code",
   "execution_count": null,
   "metadata": {},
   "outputs": [],
   "source": []
  },
  {
   "cell_type": "code",
   "execution_count": null,
   "metadata": {},
   "outputs": [],
   "source": []
  },
  {
   "cell_type": "code",
   "execution_count": null,
   "metadata": {},
   "outputs": [],
   "source": []
  }
 ],
 "metadata": {
  "kernelspec": {
   "display_name": "Python 3",
   "language": "python",
   "name": "python3"
  },
  "language_info": {
   "codemirror_mode": {
    "name": "ipython",
    "version": 3
   },
   "file_extension": ".py",
   "mimetype": "text/x-python",
   "name": "python",
   "nbconvert_exporter": "python",
   "pygments_lexer": "ipython3",
   "version": "3.7.6"
  }
 },
 "nbformat": 4,
 "nbformat_minor": 4
}
