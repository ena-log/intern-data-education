{
 "cells": [
  {
   "cell_type": "code",
   "execution_count": 12,
   "metadata": {},
   "outputs": [
    {
     "name": "stdout",
     "output_type": "stream",
     "text": [
      "{\"startDate\":\"2020-06-01\",\"endDate\":\"2020-07-10\",\"timeUnit\":\"month\",\"results\":[{\"title\":\"대전명소\",\"keywords\":[\"대전 명소\",\"dajeon\"],\"data\":[{\"period\":\"2020-06-01\",\"ratio\":100},{\"period\":\"2020-07-01\",\"ratio\":7.14285}]}]}\n"
     ]
    }
   ],
   "source": [
    "import os\n",
    "import sys\n",
    "import urllib.request\n",
    "client_id = \"AHKQzDrD1VBe5obaDzlI\"\n",
    "client_secret = \"u7DSG4jz2f\"\n",
    "url = \"https://openapi.naver.com/v1/datalab/search\";\n",
    "body = \"{\\\"startDate\\\":\\\"2020-06-01\\\",\\\"endDate\\\":\\\"2020-07-10\\\",\\\"timeUnit\\\":\\\"month\\\",\\\"keywordGroups\\\":[{\\\"groupName\\\":\\\"대전명소\\\",\\\"keywords\\\":[\\\"대전 명소\\\",\\\"dajeon\\\"]}],\\\"device\\\":\\\"pc\\\",\\\"ages\\\":[\\\"1\\\",\\\"2\\\"],\\\"gender\\\":\\\"f\\\"}\";\n",
    "\n",
    "request = urllib.request.Request(url)\n",
    "request.add_header(\"X-Naver-Client-Id\",client_id)\n",
    "request.add_header(\"X-Naver-Client-Secret\",client_secret)\n",
    "request.add_header(\"Content-Type\",\"application/json\")\n",
    "response = urllib.request.urlopen(request, data=body.encode(\"utf-8\"))\n",
    "rescode = response.getcode()\n",
    "if(rescode==200):\n",
    "    response_body = response.read()\n",
    "    print(response_body.decode('utf-8'))\n",
    "else:\n",
    "    print(\"Error Code:\" + rescode)"
   ]
  }
 ],
 "metadata": {
  "kernelspec": {
   "display_name": "Python 3",
   "language": "python",
   "name": "python3"
  },
  "language_info": {
   "codemirror_mode": {
    "name": "ipython",
    "version": 3
   },
   "file_extension": ".py",
   "mimetype": "text/x-python",
   "name": "python",
   "nbconvert_exporter": "python",
   "pygments_lexer": "ipython3",
   "version": "3.7.6"
  }
 },
 "nbformat": 4,
 "nbformat_minor": 4
}
