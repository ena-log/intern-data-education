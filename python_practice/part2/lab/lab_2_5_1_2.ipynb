{
 "cells": [
  {
   "cell_type": "markdown",
   "metadata": {},
   "source": [
    "다음은 네이버 영화 평 url입니다. "
   ]
  },
  {
   "cell_type": "code",
   "execution_count": 1,
   "metadata": {},
   "outputs": [],
   "source": [
    "naver_url=\"https://movie.naver.com/movie/point/af/list.nhn\" "
   ]
  },
  {
   "cell_type": "markdown",
   "metadata": {},
   "source": [
    "다음 url 요청 결과 받은 html을 다음과 같이 파싱하세요. \n",
    "\n",
    "1. 영화평과 그 영화 제목을 추출(정규표현식이용)하여  출력 "
   ]
  },
  {
   "cell_type": "code",
   "execution_count": 2,
   "metadata": {},
   "outputs": [],
   "source": [
    "from urllib.request import urlopen"
   ]
  },
  {
   "cell_type": "code",
   "execution_count": 3,
   "metadata": {},
   "outputs": [],
   "source": [
    "response = urlopen(naver_url)"
   ]
  },
  {
   "cell_type": "code",
   "execution_count": 4,
   "metadata": {},
   "outputs": [],
   "source": [
    "encoding = response.info() .get_content_charset(failobj=\"utf-8\")"
   ]
  },
  {
   "cell_type": "code",
   "execution_count": 5,
   "metadata": {},
   "outputs": [],
   "source": [
    "html = response.read().decode(encoding)"
   ]
  },
  {
   "cell_type": "code",
   "execution_count": null,
   "metadata": {},
   "outputs": [],
   "source": []
  },
  {
   "cell_type": "code",
   "execution_count": 8,
   "metadata": {},
   "outputs": [],
   "source": [
    "import re"
   ]
  },
  {
   "cell_type": "code",
   "execution_count": 9,
   "metadata": {},
   "outputs": [],
   "source": [
    "result = re.findall('<td class=\"title\">[()<>?\"\\'#\\,_;*\\-/%:~&\\\\s\\\\w=. &#34]+', html)"
   ]
  },
  {
   "cell_type": "code",
   "execution_count": 10,
   "metadata": {},
   "outputs": [
    {
     "name": "stdout",
     "output_type": "stream",
     "text": [
      "영화제목:  카페\n",
      "영화명:  뭔가 개연성이 떨어져서 단편영화 여러편 보는 느낌이지만 대만 로맨스영화가 갖고있는 풋풋함은 갖고있는....많이 아쉬운 영화 \n",
      "영화제목:  매트릭스\n",
      "영화명:  심오한 새로운 세계관을 화려한 영상과 액션으로 표현한 \n",
      "영화제목:  사라진\n",
      "영화명:  20.07.09\n",
      "영화제목:  사라진\n",
      "영화명:  가족이름과 정신과 의사와의 대화에서 제 나름의 해석으로 70\n",
      "영화제목:  곤지암\n",
      "영화명:   \n",
      "영화제목:  사라진\n",
      "영화명:  재밌게 잘봤어요\n",
      "영화제목:  죽은\n",
      "영화명:  20.07.09\n",
      "영화제목:  이미테이션\n",
      "영화명:  재밌긴한데 퍼즐 어케 푼건지 보는데도 이해안갔슴 \n",
      "영화제목:  애니\n",
      "영화명:  제 최애 영화에요ㅠㅠㅠ \n"
     ]
    }
   ],
   "source": [
    "for naver_movie in result:\n",
    "    r = re.findall('\"movie color_b\">[\\w가-힣]+', naver_movie)\n",
    "    a = re.findall('<br>[\\w가-힣, .\\\"\\']+', naver_movie)\n",
    "    for idx, title in enumerate(r):\n",
    "        print(\"영화제목: \", title[16:])\n",
    "        print(\"영화명: \", a[idx][4:])"
   ]
  }
 ],
 "metadata": {
  "kernelspec": {
   "display_name": "Python 3",
   "language": "python",
   "name": "python3"
  },
  "language_info": {
   "codemirror_mode": {
    "name": "ipython",
    "version": 3
   },
   "file_extension": ".py",
   "mimetype": "text/x-python",
   "name": "python",
   "nbconvert_exporter": "python",
   "pygments_lexer": "ipython3",
   "version": "3.7.6"
  }
 },
 "nbformat": 4,
 "nbformat_minor": 2
}
