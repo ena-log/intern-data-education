{
 "cells": [
  {
   "cell_type": "markdown",
   "metadata": {},
   "source": [
    "매일 naver 부동산의 \n",
    "\n",
    "오늘의 뉴스 중 첫번째 뉴스를 \n",
    "\n",
    "클릭하여 뉴스의 상세 내용을 \n",
    "\n",
    "크롤링하는 프로그램을 작성하세요 . (Selenium 으로)"
   ]
  },
  {
   "cell_type": "code",
   "execution_count": 1,
   "metadata": {},
   "outputs": [],
   "source": [
    "from selenium import webdriver"
   ]
  },
  {
   "cell_type": "code",
   "execution_count": 17,
   "metadata": {},
   "outputs": [],
   "source": [
    "driver = webdriver.Chrome('driver/chromedriver')"
   ]
  },
  {
   "cell_type": "code",
   "execution_count": 18,
   "metadata": {},
   "outputs": [],
   "source": [
    "driver.get(\"https://land.naver.com/\")"
   ]
  },
  {
   "cell_type": "code",
   "execution_count": 19,
   "metadata": {},
   "outputs": [],
   "source": [
    "xpath = \"\"\"//*[@id=\"content\"]/div[1]/div[1]/div[1]/h3/a\"\"\"\n",
    "a = driver.find_element_by_xpath(xpath)\n",
    "a.click()"
   ]
  },
  {
   "cell_type": "code",
   "execution_count": 27,
   "metadata": {},
   "outputs": [
    {
     "data": {
      "text/plain": [
       "'주요뉴스\\n내일부터 규제지역 3억 넘는 아파트 사면 전세대출 회수\\n국민일보 | 2020.07.09 04:07\\n1주택자 전세대출 2억으로 축소\\n정부의 6·17 부동산 대책에 따라 10일부터 서울과 수도권 대부분 지역에서 시가 3억원이 넘는 아파트를 사면 전세대출을 받을 수 없다. 전세대출을 받은 뒤 투기지역과 투기과열지구에서 3억원 초과 아파트를 구입할 경우 대출금이 즉시 회수된다.\\n\\n금융위원회는 ‘주택시장 안정을 위한 관리방안’의 전세대출 제한 조치가 10일부터 시행된다고 8일 밝혔다.\\n\\n이에 따라 10일 이후 서울과 수도권 지역(김포 파주 동두천 연천 포천 이천 등 제외)에서 3억원 초과 아파트를 구입한 뒤 다른 집에서 전세로 살 경우 대출 보증이 제한된다. ‘갭투자’(전세를 끼고 집을 사는 것)를 원천 차단하기 위한 방침이다.\\n\\n다만 실수요 목적으로 구매한 아파트가 있는 지역을 벗어나 전세를 얻을 때에는 대출이 가능하다. △직장 이동, 자녀 교육, 부모 봉양, 요양 및 치료, 학교폭력 피해 등 실수요 때 △구입아파트 소재 특별시·광역시를 벗어나 전세주택을 얻는 경우 △구입아파트와 전세주택 모두에서 세대원 실거주 시에는 전세 대출이 허용된다는 것이다.\\n\\n10일 이후 전세대출을 받은 뒤 규제 대상 아파트를 사면 대출금이 즉각 회수된다. 다만 새로 구입한 아파트에 기존 세입자의 임대차 계약 기간이 남은 경우, 회수는 잔여기간까지 유예된다.\\n\\n아파트를 살 때 3억원 이하였지만, 이후 가격 상승으로 3억원이 초과된 경우에는 규제 대상에서 제외된다. 아파트를 상속받은 경우도 예외다.\\n\\n10일 전 전세대출을 받고, 10일 이후 3억원 초과 아파트의 분양권·입주권을 산 경우에는 대출금 회수 대상이 아니다. 다만 전세대출 만기 연장이 제한된다. 아파트가 아닌 빌라·다세대 주택에는 대출 제한 조치가 적용되지 않는다.\\n\\n이 외 1주택자에 대한 주택도시보증공사(HUG)의 전세대출 보증 한도는 10일부터 최대 4억원에서 2억원으로 낮아진다. 다만 규제시행일 전에 전세계약을 체결한 차주에게는 종전 규정이 적용된다.\\n\\n조민아 기자 minajo@kmib.co.kr\\n\\n▶ 네이버에서 국민일보를 구독하세요(클릭)\\n▶ 국민일보 홈페이지 바로가기\\n\\nGoodNews paper ⓒ 국민일보(www.kmib.co.kr), 무단전재 및 재배포금지\\n국민일보 관련뉴스해당 언론사에서 선정하며 언론사 페이지(아웃링크)로 이동해 볼 수 있습니다.\\n잘나가는 SK바이오팜과 삼성바이오로직스, 같은 점 다른 점\\n\"박근혜, 귀휴 의사 안 밝혀… 이복언니 조문 안갈 듯\"\\n\"너 윤석열 편이지?\" 열린민주당發 사상검증 \\'봇물\\'\\n\\'손석희 불륜설\\'의 시작은 \"바람피웠나\" 농담 한마디였다\\n멈춘 자동차에 달려와 부딪힌 자전거…\"이 아이 피할 수 있나요?\"\\n인쇄하기 | 메일 보내기\\n블로그\\n카페\\nKeep\\n메모\\n보내기\\n\\n\\n\\n\\n\\n\\n\\n\\n\\n\\n\\n| 목록보기\\n부동산 주요뉴스\\n내일부터 규제지역 3억 넘는 아파트 사면 전세대출 회수\\n국민일보 | 2020.07.09\\n與, 이번엔 “임대차 3법”… 전셋값 벌써 들썩이고 매물 회수 움직임\\n동아일보 | 2020.07.09\\n실수요자 반발에도, 전세대출 규제 10일 시행\\n동아일보 | 2020.07.09\\n내일부터 전세대출 규제 강화...‘이런’ 경우는 괜찮다\\n서울경제 | 2020.07.09\\n“세금 더 싼데, 물려주지 왜 팔아”…다주택자 잡으려면\\n이데일리 | 2020.07.09\\n기사목록 전체보기'"
      ]
     },
     "execution_count": 27,
     "metadata": {},
     "output_type": "execute_result"
    }
   ],
   "source": [
    "content = driver.find_element_by_id(\"content\")\n",
    "content.text"
   ]
  }
 ],
 "metadata": {
  "kernelspec": {
   "display_name": "Python 3",
   "language": "python",
   "name": "python3"
  },
  "language_info": {
   "codemirror_mode": {
    "name": "ipython",
    "version": 3
   },
   "file_extension": ".py",
   "mimetype": "text/x-python",
   "name": "python",
   "nbconvert_exporter": "python",
   "pygments_lexer": "ipython3",
   "version": "3.7.6"
  }
 },
 "nbformat": 4,
 "nbformat_minor": 4
}
