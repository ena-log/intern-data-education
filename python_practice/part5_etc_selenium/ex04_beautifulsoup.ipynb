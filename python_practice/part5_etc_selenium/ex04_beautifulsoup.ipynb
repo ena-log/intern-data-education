{
 "cells": [
  {
   "cell_type": "code",
   "execution_count": 1,
   "metadata": {},
   "outputs": [
    {
     "name": "stdout",
     "output_type": "stream",
     "text": [
      "[<div class=\"story_area\">\n",
      "<div class=\"title_area\">\n",
      "<h4 class=\"h_story\"><strong class=\"blind\">줄거리</strong></h4>\n",
      "</div>\n",
      "<h5 class=\"h_tx_story\">야귀떼가 온 세상을 집어삼켰다!</h5>\n",
      "<p class=\"con_tx\">밤에만 활동하는 산 자도 죽은 자도 아닌 ‘야귀(夜鬼)‘가 창궐한 세상,<br/> 위기의 조선으로 돌아온 왕자 ‘이청’(현빈)은<br/> 도처에 창궐한 야귀떼에 맞서 싸우는 최고의 무관 ‘박종사관’(조우진)<br/> 일행을 만나게 되고,<br/> 야귀떼를 소탕하는 그들과 의도치 않게 함께하게 된다.<br/> 한편, 조선을 집어삼키려는 절대악 ‘김자준’(장동건)은 이 세상을 뒤엎기 위한<br/> 마지막 계획을 감행하는데…<br/> <br/> 조선필생 VS 조선필망<br/> 세상을 구하려는 자와 멸망시키려는 자!<br/> 오늘 밤, 세상에 없던 혈투가 시작된다!</p>\n",
      "<button class=\"story_more\" id=\"toggleMakingnoteButton\" onclick=\"storyAndNote.toggleMakingnote();\" type=\"button\"><em class=\"blind\">제작노트 보기</em></button><!-- N=a:mai.story -->\n",
      "</div>]\n"
     ]
    }
   ],
   "source": [
    "from selenium import webdriver\n",
    "\n",
    "driver = webdriver.Chrome('driver/chromedriver')\n",
    "driver.get(\"https://movie.naver.com/movie/bi/mi/basic.nhn?code=160487\")\n",
    "\n",
    "from bs4 import BeautifulSoup\n",
    "\n",
    "html = driver.page_source\n",
    "soup = BeautifulSoup(html, 'html.parser')\n",
    "\n",
    "raw_list = soup.find_all('div', class_=\"story_area\")\n",
    "print( raw_list )"
   ]
  },
  {
   "cell_type": "code",
   "execution_count": null,
   "metadata": {},
   "outputs": [],
   "source": []
  },
  {
   "cell_type": "code",
   "execution_count": 5,
   "metadata": {},
   "outputs": [
    {
     "name": "stdout",
     "output_type": "stream",
     "text": [
      "대전 현대프리미엄아울렛 새로운 명소 탄생~\n",
      "\n",
      "2020. 7. 1.\n",
      "\n",
      "대전 벚꽃 명소 테미고개로 마스크 쓰고 출동\n",
      "\n",
      "2020. 4. 1.\n",
      "\n",
      "맑은 공기 마시며 걷는 대전명소 장태산휴양림\n",
      "\n",
      "2020. 5. 15.\n",
      "\n",
      "대전 핑크뮬리 명소 한밭수목원 장태산 자연휴양림\n",
      "\n",
      "2019. 10. 28.\n",
      "\n",
      "대전 코로나 피해 야외 나들이하기 좋은 야경 명소\n",
      "\n",
      "2020. 3. 12.\n",
      "\n",
      "\"대전 명소 / 은행동 빵집 - 성심당\" : 대전에 들리면 꼭 들리게 되는 대표 관광지 맛집\n",
      "\n",
      "2020. 4. 19.\n",
      "\n",
      "대전 야경 명소 관저동 구봉산 해돋이로도 유명한 곳\n",
      "\n",
      "2020. 7. 8.\n",
      "\n"
     ]
    }
   ],
   "source": [
    "from selenium import webdriver\n",
    "\n",
    "driver = webdriver.Chrome('driver/chromedriver')\n",
    "driver.get(\"https://section.blog.naver.com/Search/Post.nhn?pageNo=1&rangeType=ALL&orderBy=sim&keyword=%EB%8C%80%EC%A0%84%EB%AA%85%EC%86%8C\")\n",
    "\n",
    "from bs4 import BeautifulSoup\n",
    "\n",
    "html = driver.page_source\n",
    "soup = BeautifulSoup(html, 'html.parser')\n",
    "\n",
    "for span in driver.find_elements_by_css_selector('strong > span'):\n",
    "    print(span.text)\n",
    "    print()"
   ]
  },
  {
   "cell_type": "code",
   "execution_count": null,
   "metadata": {},
   "outputs": [],
   "source": []
  },
  {
   "cell_type": "code",
   "execution_count": null,
   "metadata": {},
   "outputs": [],
   "source": []
  }
 ],
 "metadata": {
  "kernelspec": {
   "display_name": "Python 3",
   "language": "python",
   "name": "python3"
  },
  "language_info": {
   "codemirror_mode": {
    "name": "ipython",
    "version": 3
   },
   "file_extension": ".py",
   "mimetype": "text/x-python",
   "name": "python",
   "nbconvert_exporter": "python",
   "pygments_lexer": "ipython3",
   "version": "3.7.6"
  }
 },
 "nbformat": 4,
 "nbformat_minor": 2
}
