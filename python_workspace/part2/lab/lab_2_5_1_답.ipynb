{
 "cells": [
  {
   "cell_type": "code",
   "execution_count": 1,
   "metadata": {},
   "outputs": [
    {
     "data": {
      "text/plain": [
       "['13181', '285', '11914']"
      ]
     },
     "execution_count": 1,
     "metadata": {},
     "output_type": "execute_result"
    }
   ],
   "source": [
    "message = \"\"\" 대한민국 코로나 확진자는 13181명, 사망자는 285명, 완치자는 11914명입니다. \"\"\"\n",
    "\n",
    "# 문제:  정규 표현식을 이용하여 message 변수에서 숫자만 추출하여 출력 \n",
    "\n",
    "import re\n",
    "숫자_정규식='\\\\d+'\n",
    "숫자_패턴 = re.compile(숫자_정규식)\n",
    "숫자_패턴.findall(message)"
   ]
  }
 ],
 "metadata": {
  "kernelspec": {
   "display_name": "Python 3",
   "language": "python",
   "name": "python3"
  },
  "language_info": {
   "codemirror_mode": {
    "name": "ipython",
    "version": 3
   },
   "file_extension": ".py",
   "mimetype": "text/x-python",
   "name": "python",
   "nbconvert_exporter": "python",
   "pygments_lexer": "ipython3",
   "version": "3.7.6"
  }
 },
 "nbformat": 4,
 "nbformat_minor": 2
}
