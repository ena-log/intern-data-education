{
 "cells": [
  {
   "cell_type": "code",
   "execution_count": 4,
   "metadata": {},
   "outputs": [],
   "source": [
    "dic_data = { \"홍길동\" :'010-1234-1234', \n",
    "             \"박철수\" :'010-1111-2222'  }\n",
    "\n",
    "# 문제 : dic_data 의 내용을     .json 파일로 저장"
   ]
  },
  {
   "cell_type": "code",
   "execution_count": 5,
   "metadata": {},
   "outputs": [],
   "source": [
    "import json\n",
    "with open('lab_2_6_2.json', 'w' ) as f:\n",
    "    json.dump(dic_data, f)\n",
    "    "
   ]
  },
  {
   "cell_type": "code",
   "execution_count": 6,
   "metadata": {},
   "outputs": [
    {
     "name": "stdout",
     "output_type": "stream",
     "text": [
      "{'홍길동': '010-1234-1234', '박철수': '010-1111-2222'}\n"
     ]
    }
   ],
   "source": [
    "with open('lab_2_6_2.json', 'r' ) as f:\n",
    "    a= json.load( f)\n",
    "    print(a)"
   ]
  }
 ],
 "metadata": {
  "kernelspec": {
   "display_name": "Python 3",
   "language": "python",
   "name": "python3"
  },
  "language_info": {
   "codemirror_mode": {
    "name": "ipython",
    "version": 3
   },
   "file_extension": ".py",
   "mimetype": "text/x-python",
   "name": "python",
   "nbconvert_exporter": "python",
   "pygments_lexer": "ipython3",
   "version": "3.7.6"
  }
 },
 "nbformat": 4,
 "nbformat_minor": 2
}
