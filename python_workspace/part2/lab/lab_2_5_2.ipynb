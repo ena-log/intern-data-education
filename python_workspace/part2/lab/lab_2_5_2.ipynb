{
 "cells": [
  {
   "cell_type": "code",
   "execution_count": 1,
   "metadata": {},
   "outputs": [],
   "source": [
    "# 다음 rss 주소는  기상청의 기상포커스 정보이다. \n",
    "rss_url=\"http://www.kma.go.kr/servlet/NeoboardProcess?mode=rss&bid=press&url=http%3A%2F%2Fwww.kma.go.kr%2Fnotify%2Fpress%2Fkma_list.jsp\"\n",
    "\n",
    "# 위 url로 요청한 값은 xml 로 반환된다. \n",
    "# ElementTree를 이용하여  모든 <title> 태그 텍스트와 <description> 태그 텍스트, <pubDate>의 텍스트를 출력하시오. "
   ]
  },
  {
   "cell_type": "code",
   "execution_count": 2,
   "metadata": {},
   "outputs": [],
   "source": [
    "from urllib.request import urlopen \n",
    "response = urlopen(rss_url)\n",
    "xml = response.read().decode(\"utf-8\")\n",
    "\n",
    "with open(\"lab_2_5_2.xml\", \"w\", encoding=\"utf-8\") as x : \n",
    "    x.write(xml)"
   ]
  },
  {
   "cell_type": "code",
   "execution_count": 3,
   "metadata": {},
   "outputs": [
    {
     "name": "stdout",
     "output_type": "stream",
     "text": [
      "[{'title': '[2020년 6월 기상특성] 때 이른 폭염으로 역대 가장 높은 6월 기온', 'description': '[2020년 6월 기상특성] 때 이른 폭염으로 역대 가장 높은 6월 기온- 1973년 이후 6월 극값 경신: 평균·최고기온(상위 1위), 폭염 일수(상위 1위)- 우리나라 상하층에 더운 공기 자리하고 잦은 남서풍과 강한 햇빛 때문- 올해 6월까지 가장 높은 평균기온(11.0℃) 기록 중(1월 1위, 2월 3위, 3월 2위)□ [기온] 6월의 전국 최고기온과 평균기온는 각각 28.0℃(평년비교 +1.5), 22.8℃(평년비교 +1.6)로 1973년 이후 가장  높았고, 폭염일수도 2.0일(평년비교 +1.4일)로 가장 ...', 'pubDate': 'Fri Jul 03 10:16:42 KST 2020'}, {'title': '내 머리 위에 내리는 비, 이제 10분 단위로 알 수 있어요! ', 'description': '내 머리 위에 내리는 비, 이제 10분 단위로 알 수 있어요! - 기상청, ‘10분 단위 강수량 예측정보’ 제공□ 기상청(청장 김종석)은 더욱 상세한 예보로 국민의 편리한 생활을 지원하기 위해 7월부터 ‘10분 단위의 강수량 정보’를  제공한다.○ 10분 단위의 강수량 정보를 이용하면, 강수의 시작과 종료 시점 및 강수가 강해지고 약해지는 변화를 10분 단위로 알  수 있다. ○ 이번 개선을 통해 ‘초단기 강수예측정보’의 강수량 정보는 1시간 단위에서 10분 단위로 상세...', 'pubDate': 'Thu Jul 02 09:32:36 KST 2020'}, {'title': '기상청 인사발령 &#40;2020. 7. 1. 자&#41;', 'description': '기상청 인사발령- 2020. 7. 1.자 -□ 고위공무원단 전보o 기획조정관 유희동o 부산지방기상청장 신도식□ 3급 전보o 기후정책과장 이정환o 기상서비스정책과장 김현경o 대구지방기상청장 고정석□ 3급 승진o 예보정책과장 인희진□ 4급 전보o 총괄예보관 전재목o 예보기술과장 김용진□ 4급 전보o 영향예보추진팀장 김동준o 지진정보기술팀장 정성훈o 인재개발과장 김병준o 부산지방기상청 관측과장 송병현o 광주지방기상청 예보과장 김용상o 광주지방기상청 관측과장 조익...', 'pubDate': 'Tue Jun 30 13:01:31 KST 2020'}, {'title': '폭염엔 해피수로 너도나도 함께 해피해요!', 'description': '폭염엔 해피수로 너도나도 함께 해피해요!- 취약가구와 질병관리본부 콜센터, 이동노동자 쉼터 등 생수 총 10만 병 나눔- 폭염피해 예방을 위한 물 자주 마시기 확산 캠페인, ‘해피수 챌린지’ 진행 □ 기상청(청장 김종석)은 7월 1일(수)부터 8월 31일(월)까지 폭염피해 예방을 위한 ‘2020 해피해피 캠페인’을 추진한다.○ ‘해피해피 캠페인’은 ‘폭염에 해(태양)를 피하면 시원한 행복(해피)이 찾아온다.’는 의미를 담은 국민 참여형 캠페인으로,  2016년에 처음 시...', 'pubDate': 'Tue Jun 30 10:42:22 KST 2020'}, {'title': '기상과학를 체험하며 즐기는 문화공간, 국립충주기상과학관 개관', 'description': '기상과학를 체험하며 즐기는 문화공간, 국립충주기상과학관 개관- 기상청, 국립충주기상과학관을 충북 충주시에 7월 1일부터 운영 -□ 기상청(청장 김종석)은 7월 1일(수), 기상현상을 쉽고 재미있게 체험하며, 배울 수 있는 국립충주기상과학관 (충북 충주시)을 개관한다.○ 국립충주기상과학관은 중부권 중앙에 위치하여 충청도뿐만 아니라 경기도, 강원도까지 폭넓게 아우르며,  기상과학문화 전파를 위해 마련되었다.□ 국립충주기상과학관은 다양한 기상현상을 중심으...', 'pubDate': 'Mon Jun 29 14:41:17 KST 2020'}, {'title': '[설명자료] 24일부터 중부·남부지방 장마철 들어', 'description': '24일부터 중부·남부지방 장마철 들어○ 24~25일 오전 전국 많은 비  - 강원북부&#8231;제주도(제주도북부 제외) 총 120mm↑ 많은 비 - 24일 오후~25일 새벽, 강원북부&#8231;남해안&#8231;제주도 시간당 30mm↑ 강한 비○ 6월 28일 ~ 7월 1일 전국 다시 장맛비[ 강수 전망 ]□ (원인과 전망) 24일(수)~25일(목) 오전은 서해상에서부터 접근하는 저기압(그림①)과 함께 정체전선이 북상하면서  전국에 많은 양의 장맛비가 내리겠습니다.○ 24일 새벽 제주도와 서해안, 아침에...', 'pubDate': 'Tue Jun 23 10:20:26 KST 2020'}, {'title': '국민의 혁신 아이디어를, 체감하는 기상서비스로', 'description': '국민의 혁신 아이디어를, 체감하는 기상서비스로- 기상청, ‘2020년 기상서비스 개선 대국민 혁신 아이디어 공모전’ 개최-□ 기상청(청장 김종석)과 한국기상산업기술원(원장 류찬수)은 6월 22일(월)부터 7월 22일(수)까지 ‘기상서비스 개선  대국민 혁신 아이디어 공모전’을 개최한다.○ 이번 공모전은 기상청과 한국기상산업기술원이 공동으로 개최하며, 정부혁신의 일환으로 국민이 실제 생활 속에서  체감할 수 있는 기상서비스의 확실한 변화를 위해 마련되었다.□ ...', 'pubDate': 'Mon Jun 22 09:50:23 KST 2020'}, {'title': '관계 기관 간 힘을 합쳐 ‘도로살얼음’ 예측기술 개발한다!', 'description': '관계 기관 간 힘을 합쳐 ‘도로살얼음’ 예측기술 개발한다!-국립기상과학원, 한국건설생활환경시험연구원과 업무협약(MOU) 체결-□ 국립기상과학원(원장 주상원)은 6월 18일(목), 한국건설생활환경시험연구원(원장 윤갑석)과 함께 도로살얼음 (블랙아이스) 관련 공동연구를 위해 업무협약(MOU)을 체결했다.□ 이번 협약은 두 기관 간 △관측장비 및 시설 공동 활용 △결빙 관측장비의 성능 평가 공동실험 △기상·기후환경  챔버* 운영 기술교류 △도로살얼음 예측기술 공동...', 'pubDate': 'Thu Jun 18 14:32:59 KST 2020'}]\n"
     ]
    }
   ],
   "source": [
    "from xml.etree import ElementTree\n",
    "tree = ElementTree.parse(\"lab_2_5_2.xml\")\n",
    "\n",
    "root = tree.getroot()\n",
    "list1 =[ ]\n",
    "\n",
    "for item in root.findall('channel/item'):\n",
    "    title = item.find('title').text\n",
    "    description = item.find('description').text\n",
    "    pubDate = item.find('pubDate').text \n",
    "    \n",
    "    list1.append( { \"title\" : title ,\n",
    "                   \"description\" : description,\n",
    "                   \"pubDate\" :pubDate\n",
    "    })\n",
    "  \n",
    "\n",
    "print( list1 ) "
   ]
  }
 ],
 "metadata": {
  "kernelspec": {
   "display_name": "Python 3",
   "language": "python",
   "name": "python3"
  },
  "language_info": {
   "codemirror_mode": {
    "name": "ipython",
    "version": 3
   },
   "file_extension": ".py",
   "mimetype": "text/x-python",
   "name": "python",
   "nbconvert_exporter": "python",
   "pygments_lexer": "ipython3",
   "version": "3.7.6"
  }
 },
 "nbformat": 4,
 "nbformat_minor": 2
}
