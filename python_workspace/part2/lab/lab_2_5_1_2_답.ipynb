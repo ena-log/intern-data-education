{
 "cells": [
  {
   "cell_type": "code",
   "execution_count": 99,
   "metadata": {},
   "outputs": [],
   "source": [
    "# 다음은 네이버 영화 평 url입니다. \n",
    "naver_url=\"https://movie.naver.com/movie/point/af/list.nhn\"  \n",
    "\n",
    "from urllib.request import urlopen \n",
    "response = urlopen(naver_url) \n",
    "encoding = response. info() .get_content_charset(failobj=\"utf-8\")\n",
    "html = response.read().decode(encoding)"
   ]
  },
  {
   "cell_type": "code",
   "execution_count": 100,
   "metadata": {},
   "outputs": [
    {
     "name": "stdout",
     "output_type": "stream",
     "text": [
      "영화제목= 트로이\n",
      "영화평  = 내리기 전에 극장에서 보고 왔습니다 어릴 때 재밌게 본 기억이 가물가물했고 3시간이 넘는 분량으로 새로워진 디렉터스 컷이라 기대가 컸습니다 브래드 피트와 에릭 바나가 맡은 아킬레스와 헥토르의 명품 연기 대결이 무엇보다 좋았습니다 2004년을 감안한 웅장한 스케일의 전투신도 훌륭했습니다 다만 스토리 전개의 디테일이 좀 부족해 보였구요 헬레네의 연기력도 아쉬웠습니다 다이앤 크루거가 신인 때라 감안했습니다 대신 브리세이스\n",
      "영화제목= 매트릭스\n",
      "영화평  = 무엇보다 이 영화가 뛰어난건 스토리와 촬영 기법 내가 본 영화 중 가장 스토리가 뛰어난 영화 \n",
      "영화제목= 나의 첫 번째 슈퍼스타\n",
      "영화평  = 20.07.08\n",
      "영화제목= 그레텔과 헨젤\n",
      "영화평  = 주인공의 행복보다 거슬리는 주변 인물의 거만함 \n",
      "영화제목= 판소리 복서\n",
      "영화평  =  \n",
      "영화제목= 노스 컨츄리\n",
      "영화평  = 남자들은 태어날때부터가 특권이구나결혼하지 않는게 한 인간에게는적어도 여성에게는 행복인것같다 \n",
      "영화제목= 퍼시픽 림\n",
      "영화평  = 20.07.08\n",
      "영화제목= 그레텔과 헨젤\n",
      "영화평  = 업라이징 보고 이거 보니까진짜 선녀같다 \n",
      "영화제목= 침묵\n",
      "영화평  = 20.07.08\n",
      "영화제목= 인비저블 라이프\n",
      "영화평  = 그레텔과 헨젤이라는 호러게임에 많이 영감을 받은 것 같았으나 \n"
     ]
    }
   ],
   "source": [
    "# 다음 url 요청 결과 받은 html을 다음과 같이 파싱하세요. \n",
    "# 1. 영화평과 그 영화 제목을 추출(정규표현식이용)하여  출력 \n",
    "import re\n",
    "\n",
    "result2 = re.findall('<td class=\"title\">[()<>?\"\\'#\\,_;*\\-/%:~&\\\\s\\\\w=. &#34]+',html)\n",
    "for result in result2 :\n",
    "    r = re.findall('\"movie color_b\">[\\w가-힣 ]+',result) \n",
    "    a = re.findall('<br>[\\w가-힣 ,.\\\"\\']+',result)\n",
    "    for idx,title in enumerate(r) :\n",
    "        print(\"영화제목=\", title[16:]) \n",
    "        print(\"영화평  =\", a[idx][4:])"
   ]
  },
  {
   "cell_type": "code",
   "execution_count": null,
   "metadata": {},
   "outputs": [],
   "source": []
  }
 ],
 "metadata": {
  "kernelspec": {
   "display_name": "Python 3",
   "language": "python",
   "name": "python3"
  },
  "language_info": {
   "codemirror_mode": {
    "name": "ipython",
    "version": 3
   },
   "file_extension": ".py",
   "mimetype": "text/x-python",
   "name": "python",
   "nbconvert_exporter": "python",
   "pygments_lexer": "ipython3",
   "version": "3.7.6"
  }
 },
 "nbformat": 4,
 "nbformat_minor": 2
}
