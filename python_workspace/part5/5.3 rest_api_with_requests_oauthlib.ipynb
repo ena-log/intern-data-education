{
 "cells": [
  {
   "cell_type": "code",
   "execution_count": 1,
   "metadata": {},
   "outputs": [
    {
     "name": "stdout",
     "output_type": "stream",
     "text": [
      "@LeoHan61098923 https://t.co/lRLTxJUnta\n",
      "@LeoHan61098923 안녕하세요. 트위터 테스트해봐요.\n"
     ]
    }
   ],
   "source": [
    "import os\n",
    "from requests_oauthlib import OAuth1Session\n",
    "\n",
    "# 환경변수에서 인증 정보를 추출합니다.\n",
    "CONSUMER_KEY = os.environ['CONSUMER_KEY']\n",
    "CONSUMER_SECRET = os.environ['CONSUMER_SECRET']\n",
    "ACCESS_TOKEN = os.environ['ACCESS_TOKEN']\n",
    "ACCESS_TOKEN_SECRET = os.environ['ACCESS_TOKEN_SECRET']\n",
    "\n",
    "# 인증 정보를 사용해 OAuth1Session 객체를 생성합니다.\n",
    "twitter = OAuth1Session(CONSUMER_KEY,\n",
    "                        client_secret=CONSUMER_SECRET,\n",
    "                        resource_owner_key=ACCESS_TOKEN,\n",
    "                        resource_owner_secret=ACCESS_TOKEN_SECRET)\n",
    "\n",
    "# 사용자의 타임라인을 추출합니다.\n",
    "response = twitter.get('https://api.twitter.com/1.1/statuses/home_timeline.json')\n",
    "\n",
    "# API 응답이 JSON 형식의 문자열이므로 response.json()으로 파싱합니다.\n",
    "# status는 트윗(Twitter API에서는 Status라고 부릅니다)를 나타내는 dict입니다.\n",
    "for status in response.json():\n",
    "    # 사용자 이름과 트윗을 출력합니다.\n",
    "    print('@' + status['user']['screen_name'], status['text'])"
   ]
  },
  {
   "cell_type": "code",
   "execution_count": null,
   "metadata": {},
   "outputs": [],
   "source": []
  }
 ],
 "metadata": {
  "kernelspec": {
   "display_name": "Python 3",
   "language": "python",
   "name": "python3"
  },
  "language_info": {
   "codemirror_mode": {
    "name": "ipython",
    "version": 3
   },
   "file_extension": ".py",
   "mimetype": "text/x-python",
   "name": "python",
   "nbconvert_exporter": "python",
   "pygments_lexer": "ipython3",
   "version": "3.6.4"
  }
 },
 "nbformat": 4,
 "nbformat_minor": 2
}
