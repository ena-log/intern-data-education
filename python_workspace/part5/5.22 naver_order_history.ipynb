{
 "cells": [
  {
   "cell_type": "code",
   "execution_count": 4,
   "metadata": {},
   "outputs": [
    {
     "name": "stdout",
     "output_type": "stream",
     "text": [
      "Collecting cached_property\n",
      "  Downloading cached_property-1.5.1-py2.py3-none-any.whl (6.0 kB)\n",
      "Installing collected packages: cached-property\n",
      "Successfully installed cached-property-1.5.1\n",
      "Note: you may need to restart the kernel to use updated packages.\n"
     ]
    }
   ],
   "source": [
    "pip install cached_property"
   ]
  },
  {
   "cell_type": "code",
   "execution_count": 5,
   "metadata": {},
   "outputs": [
    {
     "ename": "SyntaxError",
     "evalue": "invalid syntax (<ipython-input-5-2bf69fe0b01a>, line 1)",
     "output_type": "error",
     "traceback": [
      "\u001b[1;36m  File \u001b[1;32m\"<ipython-input-5-2bf69fe0b01a>\"\u001b[1;36m, line \u001b[1;32m1\u001b[0m\n\u001b[1;33m    import cached_property from werkzeug\u001b[0m\n\u001b[1;37m                              ^\u001b[0m\n\u001b[1;31mSyntaxError\u001b[0m\u001b[1;31m:\u001b[0m invalid syntax\n"
     ]
    }
   ],
   "source": [
    "import cached_property from werkzeug"
   ]
  },
  {
   "cell_type": "code",
   "execution_count": 1,
   "metadata": {},
   "outputs": [
    {
     "ename": "ImportError",
     "evalue": "cannot import name 'cached_property' from 'werkzeug' (C:\\Users\\user\\anaconda3\\lib\\site-packages\\werkzeug\\__init__.py)",
     "output_type": "error",
     "traceback": [
      "\u001b[1;31m---------------------------------------------------------------------------\u001b[0m",
      "\u001b[1;31mImportError\u001b[0m                               Traceback (most recent call last)",
      "\u001b[1;32m<ipython-input-1-b3c06c1af757>\u001b[0m in \u001b[0;36m<module>\u001b[1;34m\u001b[0m\n\u001b[0;32m      2\u001b[0m \u001b[1;32mimport\u001b[0m \u001b[0msys\u001b[0m\u001b[1;33m\u001b[0m\u001b[1;33m\u001b[0m\u001b[0m\n\u001b[0;32m      3\u001b[0m \u001b[1;32mimport\u001b[0m \u001b[0mos\u001b[0m\u001b[1;33m\u001b[0m\u001b[1;33m\u001b[0m\u001b[0m\n\u001b[1;32m----> 4\u001b[1;33m \u001b[1;32mfrom\u001b[0m \u001b[0mrobobrowser\u001b[0m \u001b[1;32mimport\u001b[0m \u001b[0mRoboBrowser\u001b[0m\u001b[1;33m\u001b[0m\u001b[1;33m\u001b[0m\u001b[0m\n\u001b[0m\u001b[0;32m      5\u001b[0m \u001b[1;33m\u001b[0m\u001b[0m\n\u001b[0;32m      6\u001b[0m \u001b[1;31m# 인증 정보를 환경변수에서 추출합니다.\u001b[0m\u001b[1;33m\u001b[0m\u001b[1;33m\u001b[0m\u001b[1;33m\u001b[0m\u001b[0m\n",
      "\u001b[1;32m~\\anaconda3\\lib\\site-packages\\robobrowser\\__init__.py\u001b[0m in \u001b[0;36m<module>\u001b[1;34m\u001b[0m\n\u001b[0;32m      1\u001b[0m \u001b[0m__version__\u001b[0m \u001b[1;33m=\u001b[0m \u001b[1;34m'0.5.3'\u001b[0m\u001b[1;33m\u001b[0m\u001b[1;33m\u001b[0m\u001b[0m\n\u001b[0;32m      2\u001b[0m \u001b[1;33m\u001b[0m\u001b[0m\n\u001b[1;32m----> 3\u001b[1;33m \u001b[1;32mfrom\u001b[0m \u001b[1;33m.\u001b[0m\u001b[0mbrowser\u001b[0m \u001b[1;32mimport\u001b[0m \u001b[0mRoboBrowser\u001b[0m\u001b[1;33m\u001b[0m\u001b[1;33m\u001b[0m\u001b[0m\n\u001b[0m\u001b[0;32m      4\u001b[0m \u001b[1;33m\u001b[0m\u001b[0m\n\u001b[0;32m      5\u001b[0m \u001b[0m__all__\u001b[0m \u001b[1;33m=\u001b[0m \u001b[1;33m[\u001b[0m\u001b[1;34m'RoboBrowser'\u001b[0m\u001b[1;33m]\u001b[0m\u001b[1;33m\u001b[0m\u001b[1;33m\u001b[0m\u001b[0m\n",
      "\u001b[1;32m~\\anaconda3\\lib\\site-packages\\robobrowser\\browser.py\u001b[0m in \u001b[0;36m<module>\u001b[1;34m\u001b[0m\n\u001b[0;32m      6\u001b[0m \u001b[1;32mimport\u001b[0m \u001b[0mrequests\u001b[0m\u001b[1;33m\u001b[0m\u001b[1;33m\u001b[0m\u001b[0m\n\u001b[0;32m      7\u001b[0m \u001b[1;32mfrom\u001b[0m \u001b[0mbs4\u001b[0m \u001b[1;32mimport\u001b[0m \u001b[0mBeautifulSoup\u001b[0m\u001b[1;33m\u001b[0m\u001b[1;33m\u001b[0m\u001b[0m\n\u001b[1;32m----> 8\u001b[1;33m \u001b[1;32mfrom\u001b[0m \u001b[0mwerkzeug\u001b[0m \u001b[1;32mimport\u001b[0m \u001b[0mcached_property\u001b[0m\u001b[1;33m\u001b[0m\u001b[1;33m\u001b[0m\u001b[0m\n\u001b[0m\u001b[0;32m      9\u001b[0m \u001b[1;32mfrom\u001b[0m \u001b[0mrequests\u001b[0m\u001b[1;33m.\u001b[0m\u001b[0mpackages\u001b[0m\u001b[1;33m.\u001b[0m\u001b[0murllib3\u001b[0m\u001b[1;33m.\u001b[0m\u001b[0mutil\u001b[0m\u001b[1;33m.\u001b[0m\u001b[0mretry\u001b[0m \u001b[1;32mimport\u001b[0m \u001b[0mRetry\u001b[0m\u001b[1;33m\u001b[0m\u001b[1;33m\u001b[0m\u001b[0m\n\u001b[0;32m     10\u001b[0m \u001b[1;33m\u001b[0m\u001b[0m\n",
      "\u001b[1;31mImportError\u001b[0m: cannot import name 'cached_property' from 'werkzeug' (C:\\Users\\user\\anaconda3\\lib\\site-packages\\werkzeug\\__init__.py)"
     ]
    }
   ],
   "source": [
    "import time\n",
    "import sys\n",
    "import os\n",
    "from robobrowser import RoboBrowser\n",
    "\n",
    "# 인증 정보를 환경변수에서 추출합니다.\n",
    "NAVER_ID =   os.environ['NAVER_ID']\n",
    "NAVER_PASSWORD =   os.environ['NAVER_PASSWORD']\n",
    "\n",
    "# RoboBrowser 객체를 생성합니다.\n",
    "browser = RoboBrowser(\n",
    "    # Beautiful Soup에서 사용할 파서를 지정합니다.\n",
    "    parser='html.parser',\n",
    "    # 일반적인 웹 브라우저의 User-Agent(FireFox)를 사용합니다.\n",
    "    user_agent='Mozilla/5.0 (Macintosh; Intel Mac macOS 10.10; rv:45.0) Gecko/20100101 Firefox/45.0')\n",
    "\n",
    "def main():\n",
    "    # 로그인 페이지를 엽니다.\n",
    "    print('Accessing to sign in page....', file=sys.stderr)\n",
    "    browser.open('https://nid.naver.com/nidlogin.login')\n",
    "    \n",
    "    # 로그인 페이지에 들어가졌는지 확인합니다.\n",
    "    assert '네이버 : 로그인' in browser.parsed.title.string\n",
    "    \n",
    "    # name='frmNIDLogin'이라는 입력 양식을 채웁니다.\n",
    "    # 입력 양식의 name 속성은 개발자 도구로 확인할 수 있습니다.\n",
    "    form = browser.get_form(attrs={'name': 'frmNIDLogin'})\n",
    "    \n",
    "    # name='id'라는 입력 양식을 채웁니다.\n",
    "    form['id'] = NAVER_ID\n",
    "    # name='pw'라는 입력 양식을 채웁니다.\n",
    "    form['pw'] = NAVER_PASSWORD\n",
    "    \n",
    "    # 입력 양식을 전송합니다.\n",
    "    # 로그인 때 로그인을 막는 것을 회피하고자 몇 가지 추가 정보를 전송합니다.\n",
    "    print('Signing in...', file=sys.stderr)\n",
    "    browser.submit_form(form, headers={\n",
    "        'Referer': browser.url,\n",
    "        'Accept-Language': 'ko,en-US;q=0.7,en;q=0.3',\n",
    "    })\n",
    "    \n",
    "    # 주문 이력 페이지를 엽니다.\n",
    "    browser.open('https://order.pay.naver.com/home?tabMenu=SHOPPING&frm=s_order')\n",
    "    \n",
    "    # 문제가 있을 경우 HTML 소스코드를 확인할 수 있게 출력합니다.\n",
    "    # print(browser.parsed.prettify())\n",
    "    # 주문 이력 페이지가 맞는지 확인합니다.\n",
    "    print(browser.parsed.title.string )\n",
    "    assert '네이버페이' in browser.parsed.title.string\n",
    "    # 주문 이력을 출력합니다.\n",
    "    print_order_history()\n",
    "\n",
    "def print_order_history():\n",
    "    \"\"\"\n",
    "    주문 이력을 출력합니다.\n",
    "    \"\"\"\n",
    "    # 주문 이력을 순회합니다: 클래스 이름은 개발자 도구로 확인합니다.\n",
    "    for item in browser.select('.p_info'):\n",
    "        # 주문 이력 저장 전용 dict입니다.\n",
    "        order = {} \n",
    "        # 주문 이력의 내용을 추출합니다.\n",
    "        name_element = item.select_one('span')\n",
    "        date_element = item.select_one('.date')\n",
    "        price_element = item.select_one('em')\n",
    "        # 내용이 있을 때만 저장합니다.\n",
    "        if name_element and date_element and price_element:\n",
    "            name = name_element.get_text().strip()\n",
    "            date = date_element.get_text().strip()\n",
    "            price = price_element.get_text().strip()\n",
    "            order[name] = {\n",
    "                'date': date,\n",
    "                'price': price\n",
    "            }\n",
    "            print(order[name]['date'], '-', order[name]['price'] + '원')\n",
    "\n",
    "if __name__ == '__main__':\n",
    "    main()"
   ]
  }
 ],
 "metadata": {
  "kernelspec": {
   "display_name": "Python 3",
   "language": "python",
   "name": "python3"
  },
  "language_info": {
   "codemirror_mode": {
    "name": "ipython",
    "version": 3
   },
   "file_extension": ".py",
   "mimetype": "text/x-python",
   "name": "python",
   "nbconvert_exporter": "python",
   "pygments_lexer": "ipython3",
   "version": "3.7.6"
  }
 },
 "nbformat": 4,
 "nbformat_minor": 2
}
