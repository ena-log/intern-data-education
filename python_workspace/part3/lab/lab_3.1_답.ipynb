{
 "cells": [
  {
   "cell_type": "code",
   "execution_count": 3,
   "metadata": {},
   "outputs": [],
   "source": [
    "from bs4 import BeautifulSoup"
   ]
  },
  {
   "cell_type": "code",
   "execution_count": 92,
   "metadata": {},
   "outputs": [],
   "source": [
    "naver_movie_url=\"https://movie.naver.com/movie/point/af/list.nhn\"\n",
    "from urllib.request import urlopen\n",
    "f = urlopen(naver_movie_url)\n",
    "encoding = f. info() .get_content_charset(failobj=\"utf-8\")\n",
    "text = f.read().decode(encoding)\n",
    "a = open(\"naver.html\",\"w\") \n",
    "a.write( text )\n",
    "a.close()"
   ]
  },
  {
   "cell_type": "code",
   "execution_count": 93,
   "metadata": {},
   "outputs": [
    {
     "name": "stdout",
     "output_type": "stream",
     "text": [
      "영화제목 =  불량한 가족\n",
      "영화평= 이게 현실성이 있는 영화 였고 더불어서 현실 가족이지 않나라고 생각을 해봤고 \n",
      "\n",
      "영화제목 =  밤쉘: 세상을 바꾼 폭탄선언\n",
      "영화평= 시기가 잘 맞아서 그렇지 솔까 내용 및 스토리 전개는 그냥 집에서 볼 \n",
      "\n",
      "영화제목 =  밤쉘: 세상을 바꾼 폭탄선언\n",
      "영화평= 중공폐렴 덕분에 이딴 \n",
      "\n",
      "영화제목 =  #살아있다\n",
      "영화평= 이영화에 시나리오를쓴 작가얼굴을 보고싶다헛웃음만 나오는 시나리오에다 연기가 더\n",
      "\n",
      "영화제목 =  사라진 시간\n",
      "영화평= 반전이뭘까 기대하다가 그상태로 엔딩 \n",
      "\n",
      "영화제목 =  드래곤볼 슈퍼: 브로리\n",
      "영화평= 최고입니다 \n",
      "\n",
      "영화제목 =  쥬라기 월드\n",
      "영화평= 역대급 영화 진짜 꿀잼인도미누스 나쁨 \n",
      "\n",
      "영화제목 =  #살아있다\n",
      "영화평= 개연성이 정말 떨어지는 영화였습니다\n",
      "\n",
      "영화제목 =  스파이더맨: 뉴 유니버스\n",
      "영화평= 개잼\n",
      "\n"
     ]
    }
   ],
   "source": [
    "with open('naver.html') as f:\n",
    "    soup = BeautifulSoup(f, 'html.parser')\n",
    "\n",
    "import re \n",
    "\n",
    "for td in soup.find_all('td'):  \n",
    "    l\n",
    "            "
   ]
  }
 ],
 "metadata": {
  "kernelspec": {
   "display_name": "Python 3",
   "language": "python",
   "name": "python3"
  },
  "language_info": {
   "codemirror_mode": {
    "name": "ipython",
    "version": 3
   },
   "file_extension": ".py",
   "mimetype": "text/x-python",
   "name": "python",
   "nbconvert_exporter": "python",
   "pygments_lexer": "ipython3",
   "version": "3.7.6"
  }
 },
 "nbformat": 4,
 "nbformat_minor": 2
}
